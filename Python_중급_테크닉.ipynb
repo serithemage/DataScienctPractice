{
  "nbformat": 4,
  "nbformat_minor": 0,
  "metadata": {
    "colab": {
      "name": "Python 중급 테크닉.ipynb",
      "provenance": [],
      "toc_visible": true,
      "authorship_tag": "ABX9TyMdOAUq3RfPzHaRmzLIYZqx",
      "include_colab_link": true
    },
    "kernelspec": {
      "name": "python3",
      "display_name": "Python 3"
    },
    "language_info": {
      "name": "python"
    }
  },
  "cells": [
    {
      "cell_type": "markdown",
      "metadata": {
        "id": "view-in-github",
        "colab_type": "text"
      },
      "source": [
        "<a href=\"https://colab.research.google.com/github/serithemage/DataScienctPractice/blob/main/Python_%EC%A4%91%EA%B8%89_%ED%85%8C%ED%81%AC%EB%8B%89.ipynb\" target=\"_parent\"><img src=\"https://colab.research.google.com/assets/colab-badge.svg\" alt=\"Open In Colab\"/></a>"
      ]
    },
    {
      "cell_type": "markdown",
      "source": [
        "# 데이터 관련 작업시 알아두면 편리한 Python 테크닉\n",
        "\n",
        "- 주로 데이터 관련 작업을들 할 때 알아두면 편리한 테크닉들을 정리해 봤습니다.\n",
        "- 이 노트의 내용은 YouTube [いまにゅのプログラミング塾](https://www.youtube.com/channel/UC0xRMqPOyRNPTaL6BxhbCnQ)채널의 [Python初学者が逃げがちな文法・記法を一気に解説](https://www.youtube.com/watch?v=C_WuKIRs_ZQ)의 내용을 참고로 해서 Jupyter notebook으로 정리한 것입니다.\n"
      ],
      "metadata": {
        "id": "nXt6iFVbRZhb"
      }
    },
    {
      "cell_type": "markdown",
      "source": [
        "# 1. 리스트 내포(List comprehension)  \n",
        "제가 처음 리스트 내포 표현식을 봤을때 그야말로 충격과 공포 그 자체였습니다. '배열 괄호 안에 for문이 들어가 있네?! 이거 너무 한거 아냐?' 사실 바로 다음에 다룰 람다 표현식도 비슷한 느낌이었는데 익숙해 지고 나면 다 별거 아닙니다.  \n",
        "암튼 이 리스트 내포 표현식은 리스트 내부에서 반복 연산을 편리하게 수행할 수 있게 해 줍니다."
      ],
      "metadata": {
        "id": "tvMWa99QSRJq"
      }
    },
    {
      "cell_type": "code",
      "source": [
        "import numpy as np"
      ],
      "metadata": {
        "id": "Nvphz3EhSQWn"
      },
      "execution_count": 1,
      "outputs": []
    },
    {
      "cell_type": "markdown",
      "source": [
        "우선 1부터 100 시이의 랜덤 정수를 100개 생성해서 배열에 넣어봅시다."
      ],
      "metadata": {
        "id": "Owfg32U0BG4Z"
      }
    },
    {
      "cell_type": "code",
      "execution_count": 2,
      "metadata": {
        "id": "6qxyQOStRTBo"
      },
      "outputs": [],
      "source": [
        "data = np.random.randint(1,100,100)"
      ]
    },
    {
      "cell_type": "markdown",
      "source": [
        "잘 들어갔는지 이제 내용을 확인해 봅시다."
      ],
      "metadata": {
        "id": "pvfvrg8oBLpX"
      }
    },
    {
      "cell_type": "code",
      "source": [
        "data"
      ],
      "metadata": {
        "colab": {
          "base_uri": "https://localhost:8080/"
        },
        "id": "3vLdfpOJ-67_",
        "outputId": "16e52da2-18c1-49a3-cc9c-9e5c2626aafc"
      },
      "execution_count": 3,
      "outputs": [
        {
          "output_type": "execute_result",
          "data": {
            "text/plain": [
              "array([27, 79, 50, 63, 30, 69, 61, 34, 53, 67, 58, 32, 58, 70, 11, 14, 22,\n",
              "       69, 75, 20, 38, 52, 37, 69, 28, 75, 91, 73, 95, 31, 82, 35, 64, 70,\n",
              "       58, 52, 55, 99, 59, 18, 93, 51, 73, 88, 16, 76, 95, 65, 86, 44, 92,\n",
              "       46, 93, 40, 85, 53, 87, 39, 45,  8, 95, 18, 39, 62, 47, 47, 38, 64,\n",
              "       24, 25, 51, 71, 57, 55, 29, 10, 26, 83,  9, 34,  3, 41,  5, 14, 25,\n",
              "       76, 39, 53, 36,  4,  5, 17, 77, 35, 70, 21, 89, 91, 27, 92])"
            ]
          },
          "metadata": {},
          "execution_count": 3
        }
      ]
    },
    {
      "cell_type": "markdown",
      "source": [
        "배열같기는 한데 약간 다른걸 알 수 있습니다. 오브젝트 타입을 확인해 봅시다."
      ],
      "metadata": {
        "id": "kVJ04jJNBoRH"
      }
    },
    {
      "cell_type": "code",
      "source": [
        "type(data)"
      ],
      "metadata": {
        "colab": {
          "base_uri": "https://localhost:8080/"
        },
        "id": "lMA5EogDBePw",
        "outputId": "8e896ca2-ad6b-40b7-b288-293223f8f130"
      },
      "execution_count": 4,
      "outputs": [
        {
          "output_type": "execute_result",
          "data": {
            "text/plain": [
              "numpy.ndarray"
            ]
          },
          "metadata": {},
          "execution_count": 4
        }
      ]
    },
    {
      "cell_type": "markdown",
      "source": [
        "numpy의 ndarray(n차원을 다루기위한 데이터 형)이라는 것을 알 수 있습니다. 사용법은 일반 배열과 크게 다르지 않습니다."
      ],
      "metadata": {
        "id": "jdzYHbBcBu0J"
      }
    },
    {
      "cell_type": "markdown",
      "source": [
        "이제 길이를 확인해 봅시다."
      ],
      "metadata": {
        "id": "XkpP_-JyB603"
      }
    },
    {
      "cell_type": "code",
      "source": [
        "len(data)"
      ],
      "metadata": {
        "colab": {
          "base_uri": "https://localhost:8080/"
        },
        "id": "fkUYwT75-to_",
        "outputId": "da9fe57f-dbb0-413b-c604-bca8a89fb516"
      },
      "execution_count": 5,
      "outputs": [
        {
          "output_type": "execute_result",
          "data": {
            "text/plain": [
              "100"
            ]
          },
          "metadata": {},
          "execution_count": 5
        }
      ]
    },
    {
      "cell_type": "markdown",
      "source": [
        "예상대로 1000개가 들어 있네요.  \n",
        "이번에는 리스트 내포 표기를 사용해서 배열 안의 모든 값에 10을 곱해 봅시다. "
      ],
      "metadata": {
        "id": "o-wuK8v4B86V"
      }
    },
    {
      "cell_type": "code",
      "source": [
        " data_10x = [ value * 10 for value in data ]"
      ],
      "metadata": {
        "id": "tl3cQYZ9_3U2"
      },
      "execution_count": 6,
      "outputs": []
    },
    {
      "cell_type": "markdown",
      "source": [
        "어떼요? 참 쉽죠?  \n",
        "잘 곱해졌는지 내용을 확인해 봅시다."
      ],
      "metadata": {
        "id": "WUEpWlivCFBP"
      }
    },
    {
      "cell_type": "code",
      "source": [
        "data_10x"
      ],
      "metadata": {
        "colab": {
          "base_uri": "https://localhost:8080/"
        },
        "id": "HEskObrvIW5K",
        "outputId": "d19dd81d-9941-4755-8ca7-c5a82f876451"
      },
      "execution_count": 7,
      "outputs": [
        {
          "output_type": "execute_result",
          "data": {
            "text/plain": [
              "[270,\n",
              " 790,\n",
              " 500,\n",
              " 630,\n",
              " 300,\n",
              " 690,\n",
              " 610,\n",
              " 340,\n",
              " 530,\n",
              " 670,\n",
              " 580,\n",
              " 320,\n",
              " 580,\n",
              " 700,\n",
              " 110,\n",
              " 140,\n",
              " 220,\n",
              " 690,\n",
              " 750,\n",
              " 200,\n",
              " 380,\n",
              " 520,\n",
              " 370,\n",
              " 690,\n",
              " 280,\n",
              " 750,\n",
              " 910,\n",
              " 730,\n",
              " 950,\n",
              " 310,\n",
              " 820,\n",
              " 350,\n",
              " 640,\n",
              " 700,\n",
              " 580,\n",
              " 520,\n",
              " 550,\n",
              " 990,\n",
              " 590,\n",
              " 180,\n",
              " 930,\n",
              " 510,\n",
              " 730,\n",
              " 880,\n",
              " 160,\n",
              " 760,\n",
              " 950,\n",
              " 650,\n",
              " 860,\n",
              " 440,\n",
              " 920,\n",
              " 460,\n",
              " 930,\n",
              " 400,\n",
              " 850,\n",
              " 530,\n",
              " 870,\n",
              " 390,\n",
              " 450,\n",
              " 80,\n",
              " 950,\n",
              " 180,\n",
              " 390,\n",
              " 620,\n",
              " 470,\n",
              " 470,\n",
              " 380,\n",
              " 640,\n",
              " 240,\n",
              " 250,\n",
              " 510,\n",
              " 710,\n",
              " 570,\n",
              " 550,\n",
              " 290,\n",
              " 100,\n",
              " 260,\n",
              " 830,\n",
              " 90,\n",
              " 340,\n",
              " 30,\n",
              " 410,\n",
              " 50,\n",
              " 140,\n",
              " 250,\n",
              " 760,\n",
              " 390,\n",
              " 530,\n",
              " 360,\n",
              " 40,\n",
              " 50,\n",
              " 170,\n",
              " 770,\n",
              " 350,\n",
              " 700,\n",
              " 210,\n",
              " 890,\n",
              " 910,\n",
              " 270,\n",
              " 920]"
            ]
          },
          "metadata": {},
          "execution_count": 7
        }
      ]
    },
    {
      "cell_type": "markdown",
      "source": [
        "data_10x가 어떠한 자료형인지 확인해 봅시다."
      ],
      "metadata": {
        "id": "01tkJ6uoCNW-"
      }
    },
    {
      "cell_type": "code",
      "source": [
        "type(data_10x)"
      ],
      "metadata": {
        "colab": {
          "base_uri": "https://localhost:8080/"
        },
        "id": "hgyy-HF4IYPx",
        "outputId": "abdf75a9-442e-4463-db6c-95a920422429"
      },
      "execution_count": 8,
      "outputs": [
        {
          "output_type": "execute_result",
          "data": {
            "text/plain": [
              "list"
            ]
          },
          "metadata": {},
          "execution_count": 8
        }
      ]
    },
    {
      "cell_type": "markdown",
      "source": [
        "ndarray가 아니라 list로 바뀐것을 볼 수 있습니다. 즉 data_10x는 기존의 data의 값을 가져다 만들긴 했어도 리스트 내포 표기를 이용해 만들어진 새로운 배열입니다."
      ],
      "metadata": {
        "id": "cvsMrx2JHhDg"
      }
    },
    {
      "cell_type": "markdown",
      "source": [
        "그 다음은 데이터에서 짝수만 뽑아봅시다.  \n",
        "다음과 같이 리스트 내포 표기를 사용하면 아주 간단합니다."
      ],
      "metadata": {
        "id": "dEF4UYKPwHHL"
      }
    },
    {
      "cell_type": "code",
      "source": [
        "odd_data = [e for e in data if e % 2 == 0]"
      ],
      "metadata": {
        "id": "rYBxzrjDwGaO"
      },
      "execution_count": 9,
      "outputs": []
    },
    {
      "cell_type": "markdown",
      "source": [
        "잘 들어갔는지 내용을 확인해 봅시다.\n"
      ],
      "metadata": {
        "id": "WZ3gFB_ZwfKT"
      }
    },
    {
      "cell_type": "code",
      "source": [
        "odd_data"
      ],
      "metadata": {
        "colab": {
          "base_uri": "https://localhost:8080/"
        },
        "id": "TspFlS8Ewo0n",
        "outputId": "b25c4192-8dfb-4bb9-dbcb-2130175e2e89"
      },
      "execution_count": 10,
      "outputs": [
        {
          "output_type": "execute_result",
          "data": {
            "text/plain": [
              "[50,\n",
              " 30,\n",
              " 34,\n",
              " 58,\n",
              " 32,\n",
              " 58,\n",
              " 70,\n",
              " 14,\n",
              " 22,\n",
              " 20,\n",
              " 38,\n",
              " 52,\n",
              " 28,\n",
              " 82,\n",
              " 64,\n",
              " 70,\n",
              " 58,\n",
              " 52,\n",
              " 18,\n",
              " 88,\n",
              " 16,\n",
              " 76,\n",
              " 86,\n",
              " 44,\n",
              " 92,\n",
              " 46,\n",
              " 40,\n",
              " 8,\n",
              " 18,\n",
              " 62,\n",
              " 38,\n",
              " 64,\n",
              " 24,\n",
              " 10,\n",
              " 26,\n",
              " 34,\n",
              " 14,\n",
              " 76,\n",
              " 36,\n",
              " 4,\n",
              " 70,\n",
              " 92]"
            ]
          },
          "metadata": {},
          "execution_count": 10
        }
      ]
    },
    {
      "cell_type": "markdown",
      "source": [
        "if가 된다면 else도 가능하지 않을까요?  \n",
        "잘 알려진 문제인 [FizzBuzz 문제](https://en.wikipedia.org/wiki/Fizz_buzz)를 내포 표기로 풀어봅시다.\n",
        "\n",
        "문법은  \n",
        " \n",
        "> [ **반환값** if **조건식** else **반환값** if ... else **기본 반환값** for i in **배열** ] \n",
        "\n",
        "입니다.  \n",
        "\n",
        "처음엔 익숙치 않아 헤깔리지만 FizzBuzz정도만 연습해서 혼자 작성할 수 있게 된다면 실무에서 사용하는데에도 크게 문제 없습니다. 반환값이 if문 앞에 온다는 점과 for 문이 맨 뒤에 붙는다는 점이 특이하네요."
      ],
      "metadata": {
        "id": "-ZxAwYbRyQ0e"
      }
    },
    {
      "cell_type": "code",
      "source": [
        "fizz_buzz = ['FizzBuzz' if i%3 == 0 and i%5 == 0 else 'Fizz' if i%3 == 0 else 'Buzz' if i%5 == 0 else i for i in range(1,51)]"
      ],
      "metadata": {
        "id": "BPfCunJDyQQa"
      },
      "execution_count": 11,
      "outputs": []
    },
    {
      "cell_type": "code",
      "source": [
        "fizz_buzz"
      ],
      "metadata": {
        "colab": {
          "base_uri": "https://localhost:8080/"
        },
        "id": "2xzB1zTuxq3W",
        "outputId": "99e86aee-0c63-46f6-90c6-c68ee0959737"
      },
      "execution_count": 12,
      "outputs": [
        {
          "output_type": "execute_result",
          "data": {
            "text/plain": [
              "[1,\n",
              " 2,\n",
              " 'Fizz',\n",
              " 4,\n",
              " 'Buzz',\n",
              " 'Fizz',\n",
              " 7,\n",
              " 8,\n",
              " 'Fizz',\n",
              " 'Buzz',\n",
              " 11,\n",
              " 'Fizz',\n",
              " 13,\n",
              " 14,\n",
              " 'FizzBuzz',\n",
              " 16,\n",
              " 17,\n",
              " 'Fizz',\n",
              " 19,\n",
              " 'Buzz',\n",
              " 'Fizz',\n",
              " 22,\n",
              " 23,\n",
              " 'Fizz',\n",
              " 'Buzz',\n",
              " 26,\n",
              " 'Fizz',\n",
              " 28,\n",
              " 29,\n",
              " 'FizzBuzz',\n",
              " 31,\n",
              " 32,\n",
              " 'Fizz',\n",
              " 34,\n",
              " 'Buzz',\n",
              " 'Fizz',\n",
              " 37,\n",
              " 38,\n",
              " 'Fizz',\n",
              " 'Buzz',\n",
              " 41,\n",
              " 'Fizz',\n",
              " 43,\n",
              " 44,\n",
              " 'FizzBuzz',\n",
              " 46,\n",
              " 47,\n",
              " 'Fizz',\n",
              " 49,\n",
              " 'Buzz']"
            ]
          },
          "metadata": {},
          "execution_count": 12
        }
      ]
    },
    {
      "cell_type": "markdown",
      "source": [
        "# 2. Lambda 함수\n",
        "Lambda함수는 간단한 처리를 익명 함수로 만들어서 처리에 사용하도록 마치 데이터처럼 전달하는것이 가능한 함수입니다.\n",
        "특히 배열에 대해서 여러가지 작업을 수행하고자 할 때, map, reduce, filter와 같은 함수와 함께 Lambda 함수를 이용하면 매우 깔끔하게 작업 내용을 기술할 수가 있습니다.\n",
        "\n",
        "예를 들어 다음과 같은 삼각형의 넓이를 계산하는 함수가 있다고 가정해 봅시다."
      ],
      "metadata": {
        "id": "Pdf-cTz3a8N-"
      }
    },
    {
      "cell_type": "code",
      "source": [
        "def calc(base, height):\n",
        "  return base*height/2\n",
        "\n",
        "calc(5,10)"
      ],
      "metadata": {
        "id": "EUjsTFQP1CVY",
        "colab": {
          "base_uri": "https://localhost:8080/"
        },
        "outputId": "f489d1a6-1b7d-45ce-dd42-573fdbcdce28"
      },
      "execution_count": 14,
      "outputs": [
        {
          "output_type": "execute_result",
          "data": {
            "text/plain": [
              "25.0"
            ]
          },
          "metadata": {},
          "execution_count": 14
        }
      ]
    },
    {
      "cell_type": "markdown",
      "source": [
        "이를 람다 함수로 표현하면 다음과 같습니다."
      ],
      "metadata": {
        "id": "YPmTnJaDh1ry"
      }
    },
    {
      "cell_type": "code",
      "source": [
        "(lambda base, height: base*height/2)(5,10)"
      ],
      "metadata": {
        "colab": {
          "base_uri": "https://localhost:8080/"
        },
        "id": "OjkzL84Gh1Cj",
        "outputId": "06f1f899-ddc0-483c-bd7c-6459781dd237"
      },
      "execution_count": 15,
      "outputs": [
        {
          "output_type": "execute_result",
          "data": {
            "text/plain": [
              "25.0"
            ]
          },
          "metadata": {},
          "execution_count": 15
        }
      ]
    },
    {
      "cell_type": "markdown",
      "source": [
        "재사용 가능하도록 func라는 이름으로 람다 함수를 선언해 보죠."
      ],
      "metadata": {
        "id": "93Pp7QqDBe9Y"
      }
    },
    {
      "cell_type": "code",
      "source": [
        "func = lambda base, height: base*height/2"
      ],
      "metadata": {
        "id": "jTuIsfV0BZRx"
      },
      "execution_count": 16,
      "outputs": []
    },
    {
      "cell_type": "code",
      "source": [
        "func(5,10)"
      ],
      "metadata": {
        "colab": {
          "base_uri": "https://localhost:8080/"
        },
        "id": "GwWKbdsiiDg7",
        "outputId": "ae10e954-412e-43fa-a4cd-6801523897a8"
      },
      "execution_count": 17,
      "outputs": [
        {
          "output_type": "execute_result",
          "data": {
            "text/plain": [
              "25.0"
            ]
          },
          "metadata": {},
          "execution_count": 17
        }
      ]
    },
    {
      "cell_type": "markdown",
      "source": [
        "이제 map, reduce, filter와 함께 사용하는 방버을 살펴보겠습니다.\n",
        "\n",
        "우선 이름을 넣은 배열을 하나 작성해 보겠습니다."
      ],
      "metadata": {
        "id": "-VqoLz5sDUIc"
      }
    },
    {
      "cell_type": "code",
      "source": [
        "names = ['Jung', 'Kim', 'Park', 'Choi']"
      ],
      "metadata": {
        "id": "VSGZo-GLDTlb"
      },
      "execution_count": 19,
      "outputs": []
    },
    {
      "cell_type": "markdown",
      "source": [
        "이 배열의 내용을 전부 대문자로 변환해 봅시다. for문을 사용한다면 다음과 같이 기술할 수 있을겁니다."
      ],
      "metadata": {
        "id": "djtzzlOZDoY2"
      }
    },
    {
      "cell_type": "code",
      "source": [
        "upper_case_names1 = []\n",
        "for name in names:\n",
        "  upper_case_names1.append(name.upper())\n",
        "\n",
        "upper_case_names1"
      ],
      "metadata": {
        "colab": {
          "base_uri": "https://localhost:8080/"
        },
        "id": "W8rpixB6BmzE",
        "outputId": "486ee849-510d-4160-81a8-59f523a95c03"
      },
      "execution_count": 22,
      "outputs": [
        {
          "output_type": "execute_result",
          "data": {
            "text/plain": [
              "['JUNG', 'KIM', 'PARK', 'CHOI']"
            ]
          },
          "metadata": {},
          "execution_count": 22
        }
      ]
    },
    {
      "cell_type": "markdown",
      "source": [
        "같은 내용을 위에서 배운 배열의 내포 표기를 사용해서 적으면 다음과 같습니다."
      ],
      "metadata": {
        "id": "yZ77mbaHE7eD"
      }
    },
    {
      "cell_type": "code",
      "source": [
        "upper_case_names2 = [name.upper() for name in names]\n",
        "upper_case_names2"
      ],
      "metadata": {
        "colab": {
          "base_uri": "https://localhost:8080/"
        },
        "id": "hbwiUniqE7Hr",
        "outputId": "35dba60f-cbe5-4b85-c8d1-d38ab03447c8"
      },
      "execution_count": 23,
      "outputs": [
        {
          "output_type": "execute_result",
          "data": {
            "text/plain": [
              "['JUNG', 'KIM', 'PARK', 'CHOI']"
            ]
          },
          "metadata": {},
          "execution_count": 23
        }
      ]
    },
    {
      "cell_type": "markdown",
      "source": [
        "같은 내용을 map과 lambda함수를 사용하면 다음과 같이 적을 수 있습니다."
      ],
      "metadata": {
        "id": "mNf8u9jvEmd0"
      }
    },
    {
      "cell_type": "code",
      "source": [
        "upper_case_name3 = list(map(lambda name: name.upper(), names))\n",
        "upper_case_name3"
      ],
      "metadata": {
        "colab": {
          "base_uri": "https://localhost:8080/"
        },
        "id": "v_cMofDlElq4",
        "outputId": "73fc863c-e89e-41b5-b311-58146e2fee04"
      },
      "execution_count": 25,
      "outputs": [
        {
          "output_type": "execute_result",
          "data": {
            "text/plain": [
              "['JUNG', 'KIM', 'PARK', 'CHOI']"
            ]
          },
          "metadata": {},
          "execution_count": 25
        }
      ]
    },
    {
      "cell_type": "markdown",
      "source": [
        "이 lambda 식을 이용한 map은 list뿐만 아니라 Pandas DataFrame에도 적용이 가능하다. DataFrame에서의 map사용에 대해서는 [Pandas의 map함수, apply함수, applymap함수 차이점 분석](http://www.leejungmin.org/post/2018/04/21/pandas_apply_and_map/) 이라는 블로그에 잘 정리 되어 있다."
      ],
      "metadata": {
        "id": "qPLCGv7TnycY"
      }
    },
    {
      "cell_type": "code",
      "source": [
        ""
      ],
      "metadata": {
        "id": "iS19VRGNENzS"
      },
      "execution_count": null,
      "outputs": []
    }
  ]
}